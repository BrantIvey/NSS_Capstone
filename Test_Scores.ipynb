{
 "cells": [
  {
   "cell_type": "code",
   "execution_count": 1,
   "metadata": {},
   "outputs": [],
   "source": [
    "import pandas as pd\n",
    "import numpy as np"
   ]
  },
  {
   "cell_type": "code",
   "execution_count": 2,
   "metadata": {},
   "outputs": [],
   "source": [
    "test_scores_df = pd.read_csv('School achievement scores 2018.csv') "
   ]
  },
  {
   "cell_type": "code",
   "execution_count": 3,
   "metadata": {},
   "outputs": [],
   "source": [
    "test_scores_df = test_scores_df.drop(['n_below','n_approaching','n_mastered','pct_below','pct_approaching','n_on_track'],axis=1)"
   ]
  },
  {
   "cell_type": "code",
   "execution_count": 4,
   "metadata": {},
   "outputs": [],
   "source": [
    "test_scores_df=test_scores_df[test_scores_df['subgroup'] == 'All Students'] \n",
    "test_scores_df=test_scores_df[test_scores_df['pct_on_mastered'] != '*'] \n",
    "test_scores_df=test_scores_df[test_scores_df['pct_mastered'] != '**']\n",
    "test_scores_df=test_scores_df[test_scores_df['year'] == 2018]"
   ]
  },
  {
   "cell_type": "code",
   "execution_count": 5,
   "metadata": {},
   "outputs": [
    {
     "data": {
      "text/html": [
       "<div>\n",
       "<style scoped>\n",
       "    .dataframe tbody tr th:only-of-type {\n",
       "        vertical-align: middle;\n",
       "    }\n",
       "\n",
       "    .dataframe tbody tr th {\n",
       "        vertical-align: top;\n",
       "    }\n",
       "\n",
       "    .dataframe thead th {\n",
       "        text-align: right;\n",
       "    }\n",
       "</style>\n",
       "<table border=\"1\" class=\"dataframe\">\n",
       "  <thead>\n",
       "    <tr style=\"text-align: right;\">\n",
       "      <th></th>\n",
       "      <th>year</th>\n",
       "      <th>system</th>\n",
       "      <th>system_name</th>\n",
       "      <th>school</th>\n",
       "      <th>school_name</th>\n",
       "      <th>test</th>\n",
       "      <th>subject</th>\n",
       "      <th>subgroup</th>\n",
       "      <th>valid_tests</th>\n",
       "      <th>pct_on_track</th>\n",
       "      <th>pct_mastered</th>\n",
       "      <th>pct_on_mastered</th>\n",
       "    </tr>\n",
       "  </thead>\n",
       "  <tbody>\n",
       "    <tr>\n",
       "      <th>82</th>\n",
       "      <td>2018</td>\n",
       "      <td>10</td>\n",
       "      <td>Anderson County</td>\n",
       "      <td>2</td>\n",
       "      <td>Anderson County High School</td>\n",
       "      <td>EOC</td>\n",
       "      <td>HS Science</td>\n",
       "      <td>All Students</td>\n",
       "      <td>530.0</td>\n",
       "      <td>31.3</td>\n",
       "      <td>24.2</td>\n",
       "      <td>55.5</td>\n",
       "    </tr>\n",
       "    <tr>\n",
       "      <th>163</th>\n",
       "      <td>2018</td>\n",
       "      <td>10</td>\n",
       "      <td>Anderson County</td>\n",
       "      <td>5</td>\n",
       "      <td>Andersonville Elementary</td>\n",
       "      <td>TNReady</td>\n",
       "      <td>3-5 Math</td>\n",
       "      <td>All Students</td>\n",
       "      <td>150.0</td>\n",
       "      <td>32.7</td>\n",
       "      <td>14</td>\n",
       "      <td>46.7</td>\n",
       "    </tr>\n",
       "    <tr>\n",
       "      <th>189</th>\n",
       "      <td>2018</td>\n",
       "      <td>10</td>\n",
       "      <td>Anderson County</td>\n",
       "      <td>5</td>\n",
       "      <td>Andersonville Elementary</td>\n",
       "      <td>TNReady</td>\n",
       "      <td>3-5 Science</td>\n",
       "      <td>All Students</td>\n",
       "      <td>45.0</td>\n",
       "      <td>46.7</td>\n",
       "      <td>31.1</td>\n",
       "      <td>77.8</td>\n",
       "    </tr>\n",
       "    <tr>\n",
       "      <th>239</th>\n",
       "      <td>2018</td>\n",
       "      <td>10</td>\n",
       "      <td>Anderson County</td>\n",
       "      <td>5</td>\n",
       "      <td>Andersonville Elementary</td>\n",
       "      <td>TNReady</td>\n",
       "      <td>3-8 Math</td>\n",
       "      <td>All Students</td>\n",
       "      <td>150.0</td>\n",
       "      <td>32.7</td>\n",
       "      <td>14</td>\n",
       "      <td>46.7</td>\n",
       "    </tr>\n",
       "    <tr>\n",
       "      <th>265</th>\n",
       "      <td>2018</td>\n",
       "      <td>10</td>\n",
       "      <td>Anderson County</td>\n",
       "      <td>5</td>\n",
       "      <td>Andersonville Elementary</td>\n",
       "      <td>TNReady</td>\n",
       "      <td>3-8 Science</td>\n",
       "      <td>All Students</td>\n",
       "      <td>45.0</td>\n",
       "      <td>46.7</td>\n",
       "      <td>31.1</td>\n",
       "      <td>77.8</td>\n",
       "    </tr>\n",
       "  </tbody>\n",
       "</table>\n",
       "</div>"
      ],
      "text/plain": [
       "     year  system      system_name  school                  school_name  \\\n",
       "82   2018      10  Anderson County       2  Anderson County High School   \n",
       "163  2018      10  Anderson County       5     Andersonville Elementary   \n",
       "189  2018      10  Anderson County       5     Andersonville Elementary   \n",
       "239  2018      10  Anderson County       5     Andersonville Elementary   \n",
       "265  2018      10  Anderson County       5     Andersonville Elementary   \n",
       "\n",
       "        test      subject      subgroup  valid_tests pct_on_track  \\\n",
       "82       EOC   HS Science  All Students        530.0         31.3   \n",
       "163  TNReady     3-5 Math  All Students        150.0         32.7   \n",
       "189  TNReady  3-5 Science  All Students         45.0         46.7   \n",
       "239  TNReady     3-8 Math  All Students        150.0         32.7   \n",
       "265  TNReady  3-8 Science  All Students         45.0         46.7   \n",
       "\n",
       "    pct_mastered pct_on_mastered  \n",
       "82          24.2            55.5  \n",
       "163           14            46.7  \n",
       "189         31.1            77.8  \n",
       "239           14            46.7  \n",
       "265         31.1            77.8  "
      ]
     },
     "execution_count": 5,
     "metadata": {},
     "output_type": "execute_result"
    }
   ],
   "source": [
    "test_scores_df.head()"
   ]
  },
  {
   "cell_type": "code",
   "execution_count": 6,
   "metadata": {},
   "outputs": [],
   "source": [
    "test_scores_df.to_csv('test_scores_filtered.csv')"
   ]
  },
  {
   "cell_type": "code",
   "execution_count": null,
   "metadata": {},
   "outputs": [],
   "source": []
  }
 ],
 "metadata": {
  "kernelspec": {
   "display_name": "Python 3",
   "language": "python",
   "name": "python3"
  },
  "language_info": {
   "codemirror_mode": {
    "name": "ipython",
    "version": 3
   },
   "file_extension": ".py",
   "mimetype": "text/x-python",
   "name": "python",
   "nbconvert_exporter": "python",
   "pygments_lexer": "ipython3",
   "version": "3.7.6"
  }
 },
 "nbformat": 4,
 "nbformat_minor": 4
}
