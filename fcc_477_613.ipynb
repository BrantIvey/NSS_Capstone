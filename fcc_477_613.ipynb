{
 "cells": [
  {
   "cell_type": "code",
   "execution_count": 1,
   "metadata": {},
   "outputs": [],
   "source": [
    "from shapely.geometry import Point\n",
    "import pandas as pd\n",
    "import geopandas as gpd\n",
    "import matplotlib.pyplot as plt\n",
    "import folium\n",
    "from folium.plugins import MarkerCluster\n",
    "from folium.plugins import FastMarkerCluster"
   ]
  },
  {
   "cell_type": "code",
   "execution_count": 2,
   "metadata": {},
   "outputs": [],
   "source": [
    " fp = \"all_block_shp.shp\""
   ]
  },
  {
   "cell_type": "code",
   "execution_count": 3,
   "metadata": {},
   "outputs": [],
   "source": [
    "data = gpd.read_file(fp)"
   ]
  },
  {
   "cell_type": "code",
   "execution_count": 4,
   "metadata": {},
   "outputs": [
    {
     "data": {
      "text/plain": [
       "geopandas.geodataframe.GeoDataFrame"
      ]
     },
     "execution_count": 4,
     "metadata": {},
     "output_type": "execute_result"
    }
   ],
   "source": [
    "type(data)"
   ]
  },
  {
   "cell_type": "code",
   "execution_count": 5,
   "metadata": {},
   "outputs": [],
   "source": [
    "data = data.drop(['STATE_FIPS','CNTY_FIPS','STCOFIPS','TRACT','BLKGRP','POPULATION'],axis=1)"
   ]
  },
  {
   "cell_type": "code",
   "execution_count": 8,
   "metadata": {},
   "outputs": [
    {
     "ename": "KeyError",
     "evalue": "\"['POP_SQMI' 'POP2010'] not found in axis\"",
     "output_type": "error",
     "traceback": [
      "\u001b[1;31m---------------------------------------------------------------------------\u001b[0m",
      "\u001b[1;31mKeyError\u001b[0m                                  Traceback (most recent call last)",
      "\u001b[1;32m<ipython-input-8-29c6fb9d3805>\u001b[0m in \u001b[0;36m<module>\u001b[1;34m\u001b[0m\n\u001b[1;32m----> 1\u001b[1;33m \u001b[0mdata\u001b[0m \u001b[1;33m=\u001b[0m \u001b[0mdata\u001b[0m\u001b[1;33m.\u001b[0m\u001b[0mdrop\u001b[0m\u001b[1;33m(\u001b[0m\u001b[1;33m[\u001b[0m\u001b[1;34m'POP_SQMI'\u001b[0m\u001b[1;33m,\u001b[0m\u001b[1;34m'POP2010'\u001b[0m\u001b[1;33m]\u001b[0m\u001b[1;33m,\u001b[0m\u001b[0maxis\u001b[0m\u001b[1;33m=\u001b[0m\u001b[1;36m1\u001b[0m\u001b[1;33m)\u001b[0m\u001b[1;33m\u001b[0m\u001b[1;33m\u001b[0m\u001b[0m\n\u001b[0m",
      "\u001b[1;32m~\\anaconda3\\envs\\geospatial\\lib\\site-packages\\pandas\\core\\frame.py\u001b[0m in \u001b[0;36mdrop\u001b[1;34m(self, labels, axis, index, columns, level, inplace, errors)\u001b[0m\n\u001b[0;32m   3995\u001b[0m             \u001b[0mlevel\u001b[0m\u001b[1;33m=\u001b[0m\u001b[0mlevel\u001b[0m\u001b[1;33m,\u001b[0m\u001b[1;33m\u001b[0m\u001b[1;33m\u001b[0m\u001b[0m\n\u001b[0;32m   3996\u001b[0m             \u001b[0minplace\u001b[0m\u001b[1;33m=\u001b[0m\u001b[0minplace\u001b[0m\u001b[1;33m,\u001b[0m\u001b[1;33m\u001b[0m\u001b[1;33m\u001b[0m\u001b[0m\n\u001b[1;32m-> 3997\u001b[1;33m             \u001b[0merrors\u001b[0m\u001b[1;33m=\u001b[0m\u001b[0merrors\u001b[0m\u001b[1;33m,\u001b[0m\u001b[1;33m\u001b[0m\u001b[1;33m\u001b[0m\u001b[0m\n\u001b[0m\u001b[0;32m   3998\u001b[0m         )\n\u001b[0;32m   3999\u001b[0m \u001b[1;33m\u001b[0m\u001b[0m\n",
      "\u001b[1;32m~\\anaconda3\\envs\\geospatial\\lib\\site-packages\\pandas\\core\\generic.py\u001b[0m in \u001b[0;36mdrop\u001b[1;34m(self, labels, axis, index, columns, level, inplace, errors)\u001b[0m\n\u001b[0;32m   3934\u001b[0m         \u001b[1;32mfor\u001b[0m \u001b[0maxis\u001b[0m\u001b[1;33m,\u001b[0m \u001b[0mlabels\u001b[0m \u001b[1;32min\u001b[0m \u001b[0maxes\u001b[0m\u001b[1;33m.\u001b[0m\u001b[0mitems\u001b[0m\u001b[1;33m(\u001b[0m\u001b[1;33m)\u001b[0m\u001b[1;33m:\u001b[0m\u001b[1;33m\u001b[0m\u001b[1;33m\u001b[0m\u001b[0m\n\u001b[0;32m   3935\u001b[0m             \u001b[1;32mif\u001b[0m \u001b[0mlabels\u001b[0m \u001b[1;32mis\u001b[0m \u001b[1;32mnot\u001b[0m \u001b[1;32mNone\u001b[0m\u001b[1;33m:\u001b[0m\u001b[1;33m\u001b[0m\u001b[1;33m\u001b[0m\u001b[0m\n\u001b[1;32m-> 3936\u001b[1;33m                 \u001b[0mobj\u001b[0m \u001b[1;33m=\u001b[0m \u001b[0mobj\u001b[0m\u001b[1;33m.\u001b[0m\u001b[0m_drop_axis\u001b[0m\u001b[1;33m(\u001b[0m\u001b[0mlabels\u001b[0m\u001b[1;33m,\u001b[0m \u001b[0maxis\u001b[0m\u001b[1;33m,\u001b[0m \u001b[0mlevel\u001b[0m\u001b[1;33m=\u001b[0m\u001b[0mlevel\u001b[0m\u001b[1;33m,\u001b[0m \u001b[0merrors\u001b[0m\u001b[1;33m=\u001b[0m\u001b[0merrors\u001b[0m\u001b[1;33m)\u001b[0m\u001b[1;33m\u001b[0m\u001b[1;33m\u001b[0m\u001b[0m\n\u001b[0m\u001b[0;32m   3937\u001b[0m \u001b[1;33m\u001b[0m\u001b[0m\n\u001b[0;32m   3938\u001b[0m         \u001b[1;32mif\u001b[0m \u001b[0minplace\u001b[0m\u001b[1;33m:\u001b[0m\u001b[1;33m\u001b[0m\u001b[1;33m\u001b[0m\u001b[0m\n",
      "\u001b[1;32m~\\anaconda3\\envs\\geospatial\\lib\\site-packages\\pandas\\core\\generic.py\u001b[0m in \u001b[0;36m_drop_axis\u001b[1;34m(self, labels, axis, level, errors)\u001b[0m\n\u001b[0;32m   3968\u001b[0m                 \u001b[0mnew_axis\u001b[0m \u001b[1;33m=\u001b[0m \u001b[0maxis\u001b[0m\u001b[1;33m.\u001b[0m\u001b[0mdrop\u001b[0m\u001b[1;33m(\u001b[0m\u001b[0mlabels\u001b[0m\u001b[1;33m,\u001b[0m \u001b[0mlevel\u001b[0m\u001b[1;33m=\u001b[0m\u001b[0mlevel\u001b[0m\u001b[1;33m,\u001b[0m \u001b[0merrors\u001b[0m\u001b[1;33m=\u001b[0m\u001b[0merrors\u001b[0m\u001b[1;33m)\u001b[0m\u001b[1;33m\u001b[0m\u001b[1;33m\u001b[0m\u001b[0m\n\u001b[0;32m   3969\u001b[0m             \u001b[1;32melse\u001b[0m\u001b[1;33m:\u001b[0m\u001b[1;33m\u001b[0m\u001b[1;33m\u001b[0m\u001b[0m\n\u001b[1;32m-> 3970\u001b[1;33m                 \u001b[0mnew_axis\u001b[0m \u001b[1;33m=\u001b[0m \u001b[0maxis\u001b[0m\u001b[1;33m.\u001b[0m\u001b[0mdrop\u001b[0m\u001b[1;33m(\u001b[0m\u001b[0mlabels\u001b[0m\u001b[1;33m,\u001b[0m \u001b[0merrors\u001b[0m\u001b[1;33m=\u001b[0m\u001b[0merrors\u001b[0m\u001b[1;33m)\u001b[0m\u001b[1;33m\u001b[0m\u001b[1;33m\u001b[0m\u001b[0m\n\u001b[0m\u001b[0;32m   3971\u001b[0m             \u001b[0mresult\u001b[0m \u001b[1;33m=\u001b[0m \u001b[0mself\u001b[0m\u001b[1;33m.\u001b[0m\u001b[0mreindex\u001b[0m\u001b[1;33m(\u001b[0m\u001b[1;33m**\u001b[0m\u001b[1;33m{\u001b[0m\u001b[0maxis_name\u001b[0m\u001b[1;33m:\u001b[0m \u001b[0mnew_axis\u001b[0m\u001b[1;33m}\u001b[0m\u001b[1;33m)\u001b[0m\u001b[1;33m\u001b[0m\u001b[1;33m\u001b[0m\u001b[0m\n\u001b[0;32m   3972\u001b[0m \u001b[1;33m\u001b[0m\u001b[0m\n",
      "\u001b[1;32m~\\anaconda3\\envs\\geospatial\\lib\\site-packages\\pandas\\core\\indexes\\base.py\u001b[0m in \u001b[0;36mdrop\u001b[1;34m(self, labels, errors)\u001b[0m\n\u001b[0;32m   5015\u001b[0m         \u001b[1;32mif\u001b[0m \u001b[0mmask\u001b[0m\u001b[1;33m.\u001b[0m\u001b[0many\u001b[0m\u001b[1;33m(\u001b[0m\u001b[1;33m)\u001b[0m\u001b[1;33m:\u001b[0m\u001b[1;33m\u001b[0m\u001b[1;33m\u001b[0m\u001b[0m\n\u001b[0;32m   5016\u001b[0m             \u001b[1;32mif\u001b[0m \u001b[0merrors\u001b[0m \u001b[1;33m!=\u001b[0m \u001b[1;34m\"ignore\"\u001b[0m\u001b[1;33m:\u001b[0m\u001b[1;33m\u001b[0m\u001b[1;33m\u001b[0m\u001b[0m\n\u001b[1;32m-> 5017\u001b[1;33m                 \u001b[1;32mraise\u001b[0m \u001b[0mKeyError\u001b[0m\u001b[1;33m(\u001b[0m\u001b[1;34mf\"{labels[mask]} not found in axis\"\u001b[0m\u001b[1;33m)\u001b[0m\u001b[1;33m\u001b[0m\u001b[1;33m\u001b[0m\u001b[0m\n\u001b[0m\u001b[0;32m   5018\u001b[0m             \u001b[0mindexer\u001b[0m \u001b[1;33m=\u001b[0m \u001b[0mindexer\u001b[0m\u001b[1;33m[\u001b[0m\u001b[1;33m~\u001b[0m\u001b[0mmask\u001b[0m\u001b[1;33m]\u001b[0m\u001b[1;33m\u001b[0m\u001b[1;33m\u001b[0m\u001b[0m\n\u001b[0;32m   5019\u001b[0m         \u001b[1;32mreturn\u001b[0m \u001b[0mself\u001b[0m\u001b[1;33m.\u001b[0m\u001b[0mdelete\u001b[0m\u001b[1;33m(\u001b[0m\u001b[0mindexer\u001b[0m\u001b[1;33m)\u001b[0m\u001b[1;33m\u001b[0m\u001b[1;33m\u001b[0m\u001b[0m\n",
      "\u001b[1;31mKeyError\u001b[0m: \"['POP_SQMI' 'POP2010'] not found in axis\""
     ]
    }
   ],
   "source": [
    "data = data.drop(['POP_SQMI','POP2010'],axis=1)"
   ]
  },
  {
   "cell_type": "code",
   "execution_count": 15,
   "metadata": {},
   "outputs": [],
   "source": [
    "data = data.drop(['POP10_SQMI','WHITE','BLACK','AMERI_ES','ASIAN','HAWN_PI','HISPANIC','OTHER'],axis=1)"
   ]
  },
  {
   "cell_type": "code",
   "execution_count": 17,
   "metadata": {},
   "outputs": [
    {
     "data": {
      "text/plain": [
       "OBJECTID       float64\n",
       "FIPS            object\n",
       "MULT_RACE      float64\n",
       "MALES          float64\n",
       "FEMALES        float64\n",
       "AGE_UNDER5     float64\n",
       "AGE_5_9        float64\n",
       "AGE_10_14      float64\n",
       "AGE_15_19      float64\n",
       "AGE_20_24      float64\n",
       "AGE_25_34      float64\n",
       "AGE_35_44      float64\n",
       "AGE_45_54      float64\n",
       "AGE_55_64      float64\n",
       "AGE_65_74      float64\n",
       "AGE_75_84      float64\n",
       "AGE_85_UP      float64\n",
       "MED_AGE        float64\n",
       "MED_AGE_M      float64\n",
       "MED_AGE_F      float64\n",
       "HOUSEHOLDS     float64\n",
       "AVE_HH_SZ      float64\n",
       "HSEHLD_1_M     float64\n",
       "HSEHLD_1_F     float64\n",
       "MARHH_CHD      float64\n",
       "MARHH_NO_C     float64\n",
       "MHH_CHILD      float64\n",
       "FHH_CHILD      float64\n",
       "FAMILIES       float64\n",
       "AVE_FAM_SZ     float64\n",
       "HSE_UNITS      float64\n",
       "VACANT         float64\n",
       "OWNER_OCC      float64\n",
       "RENTER_OCC     float64\n",
       "SQMI           float64\n",
       "Shape_Leng     float64\n",
       "Shape_Area     float64\n",
       "geometry      geometry\n",
       "dtype: object"
      ]
     },
     "execution_count": 17,
     "metadata": {},
     "output_type": "execute_result"
    }
   ],
   "source": [
    "data.dtypes"
   ]
  },
  {
   "cell_type": "code",
   "execution_count": 18,
   "metadata": {},
   "outputs": [],
   "source": [
    "data = data.drop(['MULT_RACE','MALES','FEMALES','AGE_UNDER5','AGE_10_14','AGE_15_19','AGE_20_24','AGE_25_34'],axis=1)"
   ]
  },
  {
   "cell_type": "code",
   "execution_count": 21,
   "metadata": {},
   "outputs": [],
   "source": [
    "data = data.drop(['AGE_35_44','AGE_45_54','AGE_55_64','AGE_65_74','AGE_75_84','AGE_85_UP','MED_AGE','MED_AGE_M','MED_AGE_F'],axis=1)"
   ]
  },
  {
   "cell_type": "code",
   "execution_count": 22,
   "metadata": {},
   "outputs": [],
   "source": [
    "data = data.drop(['HOUSEHOLDS','AVE_HH_SZ','HSEHLD_1_M','HSEHLD_1_F','MARHH_CHD','MARHH_NO_C','MHH_CHILD','FHH_CHILD','FAMILIES','AVE_FAM_SZ','HSE_UNITS','VACANT','OWNER_OCC','RENTER_OCC'],axis=1)"
   ]
  },
  {
   "cell_type": "code",
   "execution_count": 65,
   "metadata": {},
   "outputs": [
    {
     "data": {
      "text/html": [
       "<div>\n",
       "<style scoped>\n",
       "    .dataframe tbody tr th:only-of-type {\n",
       "        vertical-align: middle;\n",
       "    }\n",
       "\n",
       "    .dataframe tbody tr th {\n",
       "        vertical-align: top;\n",
       "    }\n",
       "\n",
       "    .dataframe thead th {\n",
       "        text-align: right;\n",
       "    }\n",
       "</style>\n",
       "<table border=\"1\" class=\"dataframe\">\n",
       "  <thead>\n",
       "    <tr style=\"text-align: right;\">\n",
       "      <th></th>\n",
       "      <th>OBJECTID</th>\n",
       "      <th>FIPS</th>\n",
       "      <th>AGE_5_9</th>\n",
       "      <th>SQMI</th>\n",
       "      <th>Shape_Leng</th>\n",
       "      <th>Shape_Area</th>\n",
       "      <th>geometry</th>\n",
       "    </tr>\n",
       "  </thead>\n",
       "  <tbody>\n",
       "    <tr>\n",
       "      <th>0</th>\n",
       "      <td>1.0</td>\n",
       "      <td>150039812001</td>\n",
       "      <td>0.0</td>\n",
       "      <td>3.10</td>\n",
       "      <td>0.459320</td>\n",
       "      <td>0.000724</td>\n",
       "      <td>MULTIPOLYGON (((-161.93000 23.06562, -161.9297...</td>\n",
       "    </tr>\n",
       "    <tr>\n",
       "      <th>1</th>\n",
       "      <td>2.0</td>\n",
       "      <td>150090318012</td>\n",
       "      <td>134.0</td>\n",
       "      <td>42.62</td>\n",
       "      <td>1.023727</td>\n",
       "      <td>0.009600</td>\n",
       "      <td>POLYGON ((-157.01409 21.18396, -157.01402 21.1...</td>\n",
       "    </tr>\n",
       "    <tr>\n",
       "      <th>2</th>\n",
       "      <td>3.0</td>\n",
       "      <td>150030005003</td>\n",
       "      <td>56.0</td>\n",
       "      <td>0.21</td>\n",
       "      <td>0.039725</td>\n",
       "      <td>0.000048</td>\n",
       "      <td>POLYGON ((-157.78349 21.26293, -157.78370 21.2...</td>\n",
       "    </tr>\n",
       "    <tr>\n",
       "      <th>3</th>\n",
       "      <td>4.0</td>\n",
       "      <td>150030005005</td>\n",
       "      <td>55.0</td>\n",
       "      <td>0.23</td>\n",
       "      <td>0.029951</td>\n",
       "      <td>0.000052</td>\n",
       "      <td>POLYGON ((-157.78600 21.27242, -157.78594 21.2...</td>\n",
       "    </tr>\n",
       "    <tr>\n",
       "      <th>4</th>\n",
       "      <td>5.0</td>\n",
       "      <td>150030006001</td>\n",
       "      <td>0.0</td>\n",
       "      <td>0.81</td>\n",
       "      <td>0.058842</td>\n",
       "      <td>0.000183</td>\n",
       "      <td>POLYGON ((-157.79905 21.26782, -157.79908 21.2...</td>\n",
       "    </tr>\n",
       "  </tbody>\n",
       "</table>\n",
       "</div>"
      ],
      "text/plain": [
       "   OBJECTID          FIPS  AGE_5_9   SQMI  Shape_Leng  Shape_Area  \\\n",
       "0       1.0  150039812001      0.0   3.10    0.459320    0.000724   \n",
       "1       2.0  150090318012    134.0  42.62    1.023727    0.009600   \n",
       "2       3.0  150030005003     56.0   0.21    0.039725    0.000048   \n",
       "3       4.0  150030005005     55.0   0.23    0.029951    0.000052   \n",
       "4       5.0  150030006001      0.0   0.81    0.058842    0.000183   \n",
       "\n",
       "                                            geometry  \n",
       "0  MULTIPOLYGON (((-161.93000 23.06562, -161.9297...  \n",
       "1  POLYGON ((-157.01409 21.18396, -157.01402 21.1...  \n",
       "2  POLYGON ((-157.78349 21.26293, -157.78370 21.2...  \n",
       "3  POLYGON ((-157.78600 21.27242, -157.78594 21.2...  \n",
       "4  POLYGON ((-157.79905 21.26782, -157.79908 21.2...  "
      ]
     },
     "execution_count": 65,
     "metadata": {},
     "output_type": "execute_result"
    }
   ],
   "source": [
    "data.head()"
   ]
  },
  {
   "cell_type": "code",
   "execution_count": 72,
   "metadata": {},
   "outputs": [
    {
     "ename": "KeyError",
     "evalue": "\"['AGE_5_9' 'SQMI'] not found in axis\"",
     "output_type": "error",
     "traceback": [
      "\u001b[1;31m---------------------------------------------------------------------------\u001b[0m",
      "\u001b[1;31mKeyError\u001b[0m                                  Traceback (most recent call last)",
      "\u001b[1;32m<ipython-input-72-86fb7e30cfb7>\u001b[0m in \u001b[0;36m<module>\u001b[1;34m\u001b[0m\n\u001b[1;32m----> 1\u001b[1;33m \u001b[0mdata\u001b[0m \u001b[1;33m=\u001b[0m \u001b[0mdata\u001b[0m\u001b[1;33m.\u001b[0m\u001b[0mdrop\u001b[0m\u001b[1;33m(\u001b[0m\u001b[1;33m[\u001b[0m\u001b[1;34m'AGE_5_9'\u001b[0m\u001b[1;33m,\u001b[0m\u001b[1;34m'SQMI'\u001b[0m\u001b[1;33m]\u001b[0m\u001b[1;33m,\u001b[0m\u001b[0maxis\u001b[0m\u001b[1;33m=\u001b[0m\u001b[1;36m1\u001b[0m\u001b[1;33m)\u001b[0m\u001b[1;33m\u001b[0m\u001b[1;33m\u001b[0m\u001b[0m\n\u001b[0m",
      "\u001b[1;32m~\\anaconda3\\envs\\geospatial\\lib\\site-packages\\pandas\\core\\frame.py\u001b[0m in \u001b[0;36mdrop\u001b[1;34m(self, labels, axis, index, columns, level, inplace, errors)\u001b[0m\n\u001b[0;32m   3995\u001b[0m             \u001b[0mlevel\u001b[0m\u001b[1;33m=\u001b[0m\u001b[0mlevel\u001b[0m\u001b[1;33m,\u001b[0m\u001b[1;33m\u001b[0m\u001b[1;33m\u001b[0m\u001b[0m\n\u001b[0;32m   3996\u001b[0m             \u001b[0minplace\u001b[0m\u001b[1;33m=\u001b[0m\u001b[0minplace\u001b[0m\u001b[1;33m,\u001b[0m\u001b[1;33m\u001b[0m\u001b[1;33m\u001b[0m\u001b[0m\n\u001b[1;32m-> 3997\u001b[1;33m             \u001b[0merrors\u001b[0m\u001b[1;33m=\u001b[0m\u001b[0merrors\u001b[0m\u001b[1;33m,\u001b[0m\u001b[1;33m\u001b[0m\u001b[1;33m\u001b[0m\u001b[0m\n\u001b[0m\u001b[0;32m   3998\u001b[0m         )\n\u001b[0;32m   3999\u001b[0m \u001b[1;33m\u001b[0m\u001b[0m\n",
      "\u001b[1;32m~\\anaconda3\\envs\\geospatial\\lib\\site-packages\\pandas\\core\\generic.py\u001b[0m in \u001b[0;36mdrop\u001b[1;34m(self, labels, axis, index, columns, level, inplace, errors)\u001b[0m\n\u001b[0;32m   3934\u001b[0m         \u001b[1;32mfor\u001b[0m \u001b[0maxis\u001b[0m\u001b[1;33m,\u001b[0m \u001b[0mlabels\u001b[0m \u001b[1;32min\u001b[0m \u001b[0maxes\u001b[0m\u001b[1;33m.\u001b[0m\u001b[0mitems\u001b[0m\u001b[1;33m(\u001b[0m\u001b[1;33m)\u001b[0m\u001b[1;33m:\u001b[0m\u001b[1;33m\u001b[0m\u001b[1;33m\u001b[0m\u001b[0m\n\u001b[0;32m   3935\u001b[0m             \u001b[1;32mif\u001b[0m \u001b[0mlabels\u001b[0m \u001b[1;32mis\u001b[0m \u001b[1;32mnot\u001b[0m \u001b[1;32mNone\u001b[0m\u001b[1;33m:\u001b[0m\u001b[1;33m\u001b[0m\u001b[1;33m\u001b[0m\u001b[0m\n\u001b[1;32m-> 3936\u001b[1;33m                 \u001b[0mobj\u001b[0m \u001b[1;33m=\u001b[0m \u001b[0mobj\u001b[0m\u001b[1;33m.\u001b[0m\u001b[0m_drop_axis\u001b[0m\u001b[1;33m(\u001b[0m\u001b[0mlabels\u001b[0m\u001b[1;33m,\u001b[0m \u001b[0maxis\u001b[0m\u001b[1;33m,\u001b[0m \u001b[0mlevel\u001b[0m\u001b[1;33m=\u001b[0m\u001b[0mlevel\u001b[0m\u001b[1;33m,\u001b[0m \u001b[0merrors\u001b[0m\u001b[1;33m=\u001b[0m\u001b[0merrors\u001b[0m\u001b[1;33m)\u001b[0m\u001b[1;33m\u001b[0m\u001b[1;33m\u001b[0m\u001b[0m\n\u001b[0m\u001b[0;32m   3937\u001b[0m \u001b[1;33m\u001b[0m\u001b[0m\n\u001b[0;32m   3938\u001b[0m         \u001b[1;32mif\u001b[0m \u001b[0minplace\u001b[0m\u001b[1;33m:\u001b[0m\u001b[1;33m\u001b[0m\u001b[1;33m\u001b[0m\u001b[0m\n",
      "\u001b[1;32m~\\anaconda3\\envs\\geospatial\\lib\\site-packages\\pandas\\core\\generic.py\u001b[0m in \u001b[0;36m_drop_axis\u001b[1;34m(self, labels, axis, level, errors)\u001b[0m\n\u001b[0;32m   3968\u001b[0m                 \u001b[0mnew_axis\u001b[0m \u001b[1;33m=\u001b[0m \u001b[0maxis\u001b[0m\u001b[1;33m.\u001b[0m\u001b[0mdrop\u001b[0m\u001b[1;33m(\u001b[0m\u001b[0mlabels\u001b[0m\u001b[1;33m,\u001b[0m \u001b[0mlevel\u001b[0m\u001b[1;33m=\u001b[0m\u001b[0mlevel\u001b[0m\u001b[1;33m,\u001b[0m \u001b[0merrors\u001b[0m\u001b[1;33m=\u001b[0m\u001b[0merrors\u001b[0m\u001b[1;33m)\u001b[0m\u001b[1;33m\u001b[0m\u001b[1;33m\u001b[0m\u001b[0m\n\u001b[0;32m   3969\u001b[0m             \u001b[1;32melse\u001b[0m\u001b[1;33m:\u001b[0m\u001b[1;33m\u001b[0m\u001b[1;33m\u001b[0m\u001b[0m\n\u001b[1;32m-> 3970\u001b[1;33m                 \u001b[0mnew_axis\u001b[0m \u001b[1;33m=\u001b[0m \u001b[0maxis\u001b[0m\u001b[1;33m.\u001b[0m\u001b[0mdrop\u001b[0m\u001b[1;33m(\u001b[0m\u001b[0mlabels\u001b[0m\u001b[1;33m,\u001b[0m \u001b[0merrors\u001b[0m\u001b[1;33m=\u001b[0m\u001b[0merrors\u001b[0m\u001b[1;33m)\u001b[0m\u001b[1;33m\u001b[0m\u001b[1;33m\u001b[0m\u001b[0m\n\u001b[0m\u001b[0;32m   3971\u001b[0m             \u001b[0mresult\u001b[0m \u001b[1;33m=\u001b[0m \u001b[0mself\u001b[0m\u001b[1;33m.\u001b[0m\u001b[0mreindex\u001b[0m\u001b[1;33m(\u001b[0m\u001b[1;33m**\u001b[0m\u001b[1;33m{\u001b[0m\u001b[0maxis_name\u001b[0m\u001b[1;33m:\u001b[0m \u001b[0mnew_axis\u001b[0m\u001b[1;33m}\u001b[0m\u001b[1;33m)\u001b[0m\u001b[1;33m\u001b[0m\u001b[1;33m\u001b[0m\u001b[0m\n\u001b[0;32m   3972\u001b[0m \u001b[1;33m\u001b[0m\u001b[0m\n",
      "\u001b[1;32m~\\anaconda3\\envs\\geospatial\\lib\\site-packages\\pandas\\core\\indexes\\base.py\u001b[0m in \u001b[0;36mdrop\u001b[1;34m(self, labels, errors)\u001b[0m\n\u001b[0;32m   5015\u001b[0m         \u001b[1;32mif\u001b[0m \u001b[0mmask\u001b[0m\u001b[1;33m.\u001b[0m\u001b[0many\u001b[0m\u001b[1;33m(\u001b[0m\u001b[1;33m)\u001b[0m\u001b[1;33m:\u001b[0m\u001b[1;33m\u001b[0m\u001b[1;33m\u001b[0m\u001b[0m\n\u001b[0;32m   5016\u001b[0m             \u001b[1;32mif\u001b[0m \u001b[0merrors\u001b[0m \u001b[1;33m!=\u001b[0m \u001b[1;34m\"ignore\"\u001b[0m\u001b[1;33m:\u001b[0m\u001b[1;33m\u001b[0m\u001b[1;33m\u001b[0m\u001b[0m\n\u001b[1;32m-> 5017\u001b[1;33m                 \u001b[1;32mraise\u001b[0m \u001b[0mKeyError\u001b[0m\u001b[1;33m(\u001b[0m\u001b[1;34mf\"{labels[mask]} not found in axis\"\u001b[0m\u001b[1;33m)\u001b[0m\u001b[1;33m\u001b[0m\u001b[1;33m\u001b[0m\u001b[0m\n\u001b[0m\u001b[0;32m   5018\u001b[0m             \u001b[0mindexer\u001b[0m \u001b[1;33m=\u001b[0m \u001b[0mindexer\u001b[0m\u001b[1;33m[\u001b[0m\u001b[1;33m~\u001b[0m\u001b[0mmask\u001b[0m\u001b[1;33m]\u001b[0m\u001b[1;33m\u001b[0m\u001b[1;33m\u001b[0m\u001b[0m\n\u001b[0;32m   5019\u001b[0m         \u001b[1;32mreturn\u001b[0m \u001b[0mself\u001b[0m\u001b[1;33m.\u001b[0m\u001b[0mdelete\u001b[0m\u001b[1;33m(\u001b[0m\u001b[0mindexer\u001b[0m\u001b[1;33m)\u001b[0m\u001b[1;33m\u001b[0m\u001b[1;33m\u001b[0m\u001b[0m\n",
      "\u001b[1;31mKeyError\u001b[0m: \"['AGE_5_9' 'SQMI'] not found in axis\""
     ]
    }
   ],
   "source": [
    "data = data.drop(['AGE_5_9','SQMI'],axis=1)"
   ]
  },
  {
   "cell_type": "code",
   "execution_count": 73,
   "metadata": {},
   "outputs": [],
   "source": [
    "data.to_csv('block_geo_tableau.csv')"
   ]
  },
  {
   "cell_type": "code",
   "execution_count": 74,
   "metadata": {},
   "outputs": [],
   "source": [
    "data.to_file('block_geo_tableau_shp.shp', driver='ESRI Shapefile')"
   ]
  },
  {
   "cell_type": "code",
   "execution_count": 9,
   "metadata": {},
   "outputs": [],
   "source": [
    "fcc_477_all = pd.read_csv('fcc_filtered_all.csv')"
   ]
  },
  {
   "cell_type": "code",
   "execution_count": 10,
   "metadata": {},
   "outputs": [],
   "source": [
    "fcc_477_all[\"Census Block FIPS Code\"] = pd.to_numeric(fcc_477_all[\"Census Block FIPS Code\"])"
   ]
  },
  {
   "cell_type": "code",
   "execution_count": 11,
   "metadata": {},
   "outputs": [],
   "source": [
    "fcc_477_all['Census Block FIPS Code'] = fcc_477_all['Census Block FIPS Code'].astype(str)\n",
    "\n"
   ]
  },
  {
   "cell_type": "code",
   "execution_count": 67,
   "metadata": {},
   "outputs": [],
   "source": [
    "fcc_477_all['Census Block FIPS Code'] = fcc_477_all['Census Block FIPS Code'].str[:12]"
   ]
  },
  {
   "cell_type": "code",
   "execution_count": 68,
   "metadata": {},
   "outputs": [
    {
     "data": {
      "text/html": [
       "<div>\n",
       "<style scoped>\n",
       "    .dataframe tbody tr th:only-of-type {\n",
       "        vertical-align: middle;\n",
       "    }\n",
       "\n",
       "    .dataframe tbody tr th {\n",
       "        vertical-align: top;\n",
       "    }\n",
       "\n",
       "    .dataframe thead th {\n",
       "        text-align: right;\n",
       "    }\n",
       "</style>\n",
       "<table border=\"1\" class=\"dataframe\">\n",
       "  <thead>\n",
       "    <tr style=\"text-align: right;\">\n",
       "      <th></th>\n",
       "      <th>Unnamed: 0</th>\n",
       "      <th>Provider ID</th>\n",
       "      <th>FRN</th>\n",
       "      <th>Provider Name</th>\n",
       "      <th>State</th>\n",
       "      <th>Census Block FIPS Code</th>\n",
       "      <th>Technology Code</th>\n",
       "      <th>Max Advertised Downstream Speed (mbps)</th>\n",
       "      <th>Max Advertised Upstream Speed (mbps)</th>\n",
       "    </tr>\n",
       "  </thead>\n",
       "  <tbody>\n",
       "    <tr>\n",
       "      <th>0</th>\n",
       "      <td>14378296</td>\n",
       "      <td>43424</td>\n",
       "      <td>27178078</td>\n",
       "      <td>Element Wireless</td>\n",
       "      <td>MO</td>\n",
       "      <td>290239501004</td>\n",
       "      <td>70</td>\n",
       "      <td>30.0</td>\n",
       "      <td>10.0</td>\n",
       "    </tr>\n",
       "    <tr>\n",
       "      <th>1</th>\n",
       "      <td>14378297</td>\n",
       "      <td>43424</td>\n",
       "      <td>27178078</td>\n",
       "      <td>Element Wireless</td>\n",
       "      <td>MO</td>\n",
       "      <td>290239501004</td>\n",
       "      <td>70</td>\n",
       "      <td>45.0</td>\n",
       "      <td>15.0</td>\n",
       "    </tr>\n",
       "    <tr>\n",
       "      <th>2</th>\n",
       "      <td>14378299</td>\n",
       "      <td>43424</td>\n",
       "      <td>27178078</td>\n",
       "      <td>Element Wireless</td>\n",
       "      <td>MO</td>\n",
       "      <td>292074702001</td>\n",
       "      <td>70</td>\n",
       "      <td>30.0</td>\n",
       "      <td>10.0</td>\n",
       "    </tr>\n",
       "    <tr>\n",
       "      <th>3</th>\n",
       "      <td>14378300</td>\n",
       "      <td>43424</td>\n",
       "      <td>27178078</td>\n",
       "      <td>Element Wireless</td>\n",
       "      <td>MO</td>\n",
       "      <td>290239501004</td>\n",
       "      <td>70</td>\n",
       "      <td>30.0</td>\n",
       "      <td>10.0</td>\n",
       "    </tr>\n",
       "    <tr>\n",
       "      <th>4</th>\n",
       "      <td>14378302</td>\n",
       "      <td>43424</td>\n",
       "      <td>27178078</td>\n",
       "      <td>Element Wireless</td>\n",
       "      <td>MO</td>\n",
       "      <td>292074702001</td>\n",
       "      <td>70</td>\n",
       "      <td>30.0</td>\n",
       "      <td>10.0</td>\n",
       "    </tr>\n",
       "  </tbody>\n",
       "</table>\n",
       "</div>"
      ],
      "text/plain": [
       "   Unnamed: 0  Provider ID       FRN     Provider Name State  \\\n",
       "0    14378296        43424  27178078  Element Wireless    MO   \n",
       "1    14378297        43424  27178078  Element Wireless    MO   \n",
       "2    14378299        43424  27178078  Element Wireless    MO   \n",
       "3    14378300        43424  27178078  Element Wireless    MO   \n",
       "4    14378302        43424  27178078  Element Wireless    MO   \n",
       "\n",
       "  Census Block FIPS Code  Technology Code  \\\n",
       "0           290239501004               70   \n",
       "1           290239501004               70   \n",
       "2           292074702001               70   \n",
       "3           290239501004               70   \n",
       "4           292074702001               70   \n",
       "\n",
       "   Max Advertised Downstream Speed (mbps)  \\\n",
       "0                                    30.0   \n",
       "1                                    45.0   \n",
       "2                                    30.0   \n",
       "3                                    30.0   \n",
       "4                                    30.0   \n",
       "\n",
       "   Max Advertised Upstream Speed (mbps)  \n",
       "0                                  10.0  \n",
       "1                                  15.0  \n",
       "2                                  10.0  \n",
       "3                                  10.0  \n",
       "4                                  10.0  "
      ]
     },
     "execution_count": 68,
     "metadata": {},
     "output_type": "execute_result"
    }
   ],
   "source": [
    "fcc_477_all.head()"
   ]
  },
  {
   "cell_type": "code",
   "execution_count": 70,
   "metadata": {},
   "outputs": [],
   "source": [
    "fcc_477_all = fcc_477_all.drop(['Unnamed: 0','FRN'],axis=1)"
   ]
  },
  {
   "cell_type": "code",
   "execution_count": 71,
   "metadata": {},
   "outputs": [],
   "source": [
    "fcc_477_all.to_csv('fcc_477_tab_join.csv')"
   ]
  },
  {
   "cell_type": "code",
   "execution_count": 23,
   "metadata": {},
   "outputs": [],
   "source": [
    "fcc_geo = pd.merge(data,fcc_477_all,left_on='FIPS',right_on='Census Block FIPS Code')"
   ]
  },
  {
   "cell_type": "code",
   "execution_count": 26,
   "metadata": {},
   "outputs": [
    {
     "data": {
      "text/html": [
       "<div>\n",
       "<style scoped>\n",
       "    .dataframe tbody tr th:only-of-type {\n",
       "        vertical-align: middle;\n",
       "    }\n",
       "\n",
       "    .dataframe tbody tr th {\n",
       "        vertical-align: top;\n",
       "    }\n",
       "\n",
       "    .dataframe thead th {\n",
       "        text-align: right;\n",
       "    }\n",
       "</style>\n",
       "<table border=\"1\" class=\"dataframe\">\n",
       "  <thead>\n",
       "    <tr style=\"text-align: right;\">\n",
       "      <th></th>\n",
       "      <th>OBJECTID</th>\n",
       "      <th>FIPS</th>\n",
       "      <th>AGE_5_9</th>\n",
       "      <th>SQMI</th>\n",
       "      <th>Shape_Leng</th>\n",
       "      <th>Shape_Area</th>\n",
       "      <th>geometry</th>\n",
       "      <th>Unnamed: 0</th>\n",
       "      <th>Provider ID</th>\n",
       "      <th>FRN</th>\n",
       "      <th>Provider Name</th>\n",
       "      <th>State</th>\n",
       "      <th>Census Block FIPS Code</th>\n",
       "      <th>Technology Code</th>\n",
       "      <th>Max Advertised Downstream Speed (mbps)</th>\n",
       "      <th>Max Advertised Upstream Speed (mbps)</th>\n",
       "    </tr>\n",
       "  </thead>\n",
       "  <tbody>\n",
       "    <tr>\n",
       "      <th>10437357</th>\n",
       "      <td>219830.0</td>\n",
       "      <td>230039502001</td>\n",
       "      <td>18.0</td>\n",
       "      <td>35.23</td>\n",
       "      <td>0.457682</td>\n",
       "      <td>0.010842</td>\n",
       "      <td>POLYGON ((-68.06237 47.25661, -68.06236 47.255...</td>\n",
       "      <td>41535676</td>\n",
       "      <td>48032</td>\n",
       "      <td>25646373</td>\n",
       "      <td>Charter Communications, Inc.</td>\n",
       "      <td>ME</td>\n",
       "      <td>230039502001</td>\n",
       "      <td>43</td>\n",
       "      <td>940.0</td>\n",
       "      <td>35.0</td>\n",
       "    </tr>\n",
       "    <tr>\n",
       "      <th>10437358</th>\n",
       "      <td>219830.0</td>\n",
       "      <td>230039502001</td>\n",
       "      <td>18.0</td>\n",
       "      <td>35.23</td>\n",
       "      <td>0.457682</td>\n",
       "      <td>0.010842</td>\n",
       "      <td>POLYGON ((-68.06237 47.25661, -68.06236 47.255...</td>\n",
       "      <td>41535677</td>\n",
       "      <td>48032</td>\n",
       "      <td>25646373</td>\n",
       "      <td>Charter Communications, Inc.</td>\n",
       "      <td>ME</td>\n",
       "      <td>230039502001</td>\n",
       "      <td>43</td>\n",
       "      <td>940.0</td>\n",
       "      <td>35.0</td>\n",
       "    </tr>\n",
       "    <tr>\n",
       "      <th>10437359</th>\n",
       "      <td>219830.0</td>\n",
       "      <td>230039502001</td>\n",
       "      <td>18.0</td>\n",
       "      <td>35.23</td>\n",
       "      <td>0.457682</td>\n",
       "      <td>0.010842</td>\n",
       "      <td>POLYGON ((-68.06237 47.25661, -68.06236 47.255...</td>\n",
       "      <td>41535678</td>\n",
       "      <td>48032</td>\n",
       "      <td>25646373</td>\n",
       "      <td>Charter Communications, Inc.</td>\n",
       "      <td>ME</td>\n",
       "      <td>230039502001</td>\n",
       "      <td>43</td>\n",
       "      <td>940.0</td>\n",
       "      <td>35.0</td>\n",
       "    </tr>\n",
       "    <tr>\n",
       "      <th>10437360</th>\n",
       "      <td>219830.0</td>\n",
       "      <td>230039502001</td>\n",
       "      <td>18.0</td>\n",
       "      <td>35.23</td>\n",
       "      <td>0.457682</td>\n",
       "      <td>0.010842</td>\n",
       "      <td>POLYGON ((-68.06237 47.25661, -68.06236 47.255...</td>\n",
       "      <td>41535679</td>\n",
       "      <td>48032</td>\n",
       "      <td>25646373</td>\n",
       "      <td>Charter Communications, Inc.</td>\n",
       "      <td>ME</td>\n",
       "      <td>230039502001</td>\n",
       "      <td>43</td>\n",
       "      <td>940.0</td>\n",
       "      <td>35.0</td>\n",
       "    </tr>\n",
       "    <tr>\n",
       "      <th>10437361</th>\n",
       "      <td>219830.0</td>\n",
       "      <td>230039502001</td>\n",
       "      <td>18.0</td>\n",
       "      <td>35.23</td>\n",
       "      <td>0.457682</td>\n",
       "      <td>0.010842</td>\n",
       "      <td>POLYGON ((-68.06237 47.25661, -68.06236 47.255...</td>\n",
       "      <td>41535680</td>\n",
       "      <td>48032</td>\n",
       "      <td>25646373</td>\n",
       "      <td>Charter Communications, Inc.</td>\n",
       "      <td>ME</td>\n",
       "      <td>230039502001</td>\n",
       "      <td>43</td>\n",
       "      <td>940.0</td>\n",
       "      <td>35.0</td>\n",
       "    </tr>\n",
       "  </tbody>\n",
       "</table>\n",
       "</div>"
      ],
      "text/plain": [
       "          OBJECTID          FIPS  AGE_5_9   SQMI  Shape_Leng  Shape_Area  \\\n",
       "10437357  219830.0  230039502001     18.0  35.23    0.457682    0.010842   \n",
       "10437358  219830.0  230039502001     18.0  35.23    0.457682    0.010842   \n",
       "10437359  219830.0  230039502001     18.0  35.23    0.457682    0.010842   \n",
       "10437360  219830.0  230039502001     18.0  35.23    0.457682    0.010842   \n",
       "10437361  219830.0  230039502001     18.0  35.23    0.457682    0.010842   \n",
       "\n",
       "                                                   geometry  Unnamed: 0  \\\n",
       "10437357  POLYGON ((-68.06237 47.25661, -68.06236 47.255...    41535676   \n",
       "10437358  POLYGON ((-68.06237 47.25661, -68.06236 47.255...    41535677   \n",
       "10437359  POLYGON ((-68.06237 47.25661, -68.06236 47.255...    41535678   \n",
       "10437360  POLYGON ((-68.06237 47.25661, -68.06236 47.255...    41535679   \n",
       "10437361  POLYGON ((-68.06237 47.25661, -68.06236 47.255...    41535680   \n",
       "\n",
       "          Provider ID       FRN                 Provider Name State  \\\n",
       "10437357        48032  25646373  Charter Communications, Inc.    ME   \n",
       "10437358        48032  25646373  Charter Communications, Inc.    ME   \n",
       "10437359        48032  25646373  Charter Communications, Inc.    ME   \n",
       "10437360        48032  25646373  Charter Communications, Inc.    ME   \n",
       "10437361        48032  25646373  Charter Communications, Inc.    ME   \n",
       "\n",
       "         Census Block FIPS Code  Technology Code  \\\n",
       "10437357           230039502001               43   \n",
       "10437358           230039502001               43   \n",
       "10437359           230039502001               43   \n",
       "10437360           230039502001               43   \n",
       "10437361           230039502001               43   \n",
       "\n",
       "          Max Advertised Downstream Speed (mbps)  \\\n",
       "10437357                                   940.0   \n",
       "10437358                                   940.0   \n",
       "10437359                                   940.0   \n",
       "10437360                                   940.0   \n",
       "10437361                                   940.0   \n",
       "\n",
       "          Max Advertised Upstream Speed (mbps)  \n",
       "10437357                                  35.0  \n",
       "10437358                                  35.0  \n",
       "10437359                                  35.0  \n",
       "10437360                                  35.0  \n",
       "10437361                                  35.0  "
      ]
     },
     "execution_count": 26,
     "metadata": {},
     "output_type": "execute_result"
    }
   ],
   "source": [
    "fcc_geo.tail()"
   ]
  }
 ],
 "metadata": {
  "kernelspec": {
   "display_name": "Python 3",
   "language": "python",
   "name": "python3"
  },
  "language_info": {
   "codemirror_mode": {
    "name": "ipython",
    "version": 3
   },
   "file_extension": ".py",
   "mimetype": "text/x-python",
   "name": "python",
   "nbconvert_exporter": "python",
   "pygments_lexer": "ipython3",
   "version": "3.7.6"
  }
 },
 "nbformat": 4,
 "nbformat_minor": 4
}
